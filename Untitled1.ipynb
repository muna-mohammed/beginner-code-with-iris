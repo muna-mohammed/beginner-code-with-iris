{
 "cells": [
  {
   "cell_type": "code",
   "execution_count": 1,
   "id": "3409cfa1",
   "metadata": {},
   "outputs": [],
   "source": [
    "import pandas as pd"
   ]
  },
  {
   "cell_type": "code",
   "execution_count": 3,
   "id": "b1d60576",
   "metadata": {},
   "outputs": [],
   "source": [
    "filepath = (r'C:\\Users\\munam\\Downloads\\datasets\\Iris.csv')\n",
    "# download the dataset from kaggle --> https://www.kaggle.com/datasets/uciml/iris"
   ]
  },
  {
   "cell_type": "code",
   "execution_count": 4,
   "id": "4791d7bf",
   "metadata": {},
   "outputs": [],
   "source": [
    "# import the data\n",
    "data = pd.read_csv(filepath)"
   ]
  },
  {
   "cell_type": "code",
   "execution_count": 5,
   "id": "d4be9454",
   "metadata": {},
   "outputs": [
    {
     "name": "stdout",
     "output_type": "stream",
     "text": [
      "   Id  SepalLengthCm  SepalWidthCm  PetalLengthCm  PetalWidthCm      Species\n",
      "0   1            5.1           3.5            1.4           0.2  Iris-setosa\n",
      "1   2            4.9           3.0            1.4           0.2  Iris-setosa\n",
      "2   3            4.7           3.2            1.3           0.2  Iris-setosa\n",
      "3   4            4.6           3.1            1.5           0.2  Iris-setosa\n",
      "4   5            5.0           3.6            1.4           0.2  Iris-setosa\n"
     ]
    }
   ],
   "source": [
    "# print a few rows \n",
    "print(data.iloc[:5])"
   ]
  },
  {
   "cell_type": "code",
   "execution_count": 7,
   "id": "ab311300",
   "metadata": {},
   "outputs": [
    {
     "data": {
      "text/html": [
       "<div>\n",
       "<style scoped>\n",
       "    .dataframe tbody tr th:only-of-type {\n",
       "        vertical-align: middle;\n",
       "    }\n",
       "\n",
       "    .dataframe tbody tr th {\n",
       "        vertical-align: top;\n",
       "    }\n",
       "\n",
       "    .dataframe thead th {\n",
       "        text-align: right;\n",
       "    }\n",
       "</style>\n",
       "<table border=\"1\" class=\"dataframe\">\n",
       "  <thead>\n",
       "    <tr style=\"text-align: right;\">\n",
       "      <th></th>\n",
       "      <th>Id,SepalLengthCm,SepalWidthCm,PetalLengthCm,PetalWidthCm,Species</th>\n",
       "    </tr>\n",
       "  </thead>\n",
       "  <tbody>\n",
       "    <tr>\n",
       "      <th>0</th>\n",
       "      <td>1,5.1,3.5,1.4,0.2,Iris-setosa</td>\n",
       "    </tr>\n",
       "    <tr>\n",
       "      <th>1</th>\n",
       "      <td>2,4.9,3.0,1.4,0.2,Iris-setosa</td>\n",
       "    </tr>\n",
       "    <tr>\n",
       "      <th>2</th>\n",
       "      <td>3,4.7,3.2,1.3,0.2,Iris-setosa</td>\n",
       "    </tr>\n",
       "    <tr>\n",
       "      <th>3</th>\n",
       "      <td>4,4.6,3.1,1.5,0.2,Iris-setosa</td>\n",
       "    </tr>\n",
       "    <tr>\n",
       "      <th>4</th>\n",
       "      <td>5,5.0,3.6,1.4,0.2,Iris-setosa</td>\n",
       "    </tr>\n",
       "    <tr>\n",
       "      <th>...</th>\n",
       "      <td>...</td>\n",
       "    </tr>\n",
       "    <tr>\n",
       "      <th>145</th>\n",
       "      <td>146,6.7,3.0,5.2,2.3,Iris-virginica</td>\n",
       "    </tr>\n",
       "    <tr>\n",
       "      <th>146</th>\n",
       "      <td>147,6.3,2.5,5.0,1.9,Iris-virginica</td>\n",
       "    </tr>\n",
       "    <tr>\n",
       "      <th>147</th>\n",
       "      <td>148,6.5,3.0,5.2,2.0,Iris-virginica</td>\n",
       "    </tr>\n",
       "    <tr>\n",
       "      <th>148</th>\n",
       "      <td>149,6.2,3.4,5.4,2.3,Iris-virginica</td>\n",
       "    </tr>\n",
       "    <tr>\n",
       "      <th>149</th>\n",
       "      <td>150,5.9,3.0,5.1,1.8,Iris-virginica</td>\n",
       "    </tr>\n",
       "  </tbody>\n",
       "</table>\n",
       "<p>150 rows × 1 columns</p>\n",
       "</div>"
      ],
      "text/plain": [
       "    Id,SepalLengthCm,SepalWidthCm,PetalLengthCm,PetalWidthCm,Species\n",
       "0                        1,5.1,3.5,1.4,0.2,Iris-setosa              \n",
       "1                        2,4.9,3.0,1.4,0.2,Iris-setosa              \n",
       "2                        3,4.7,3.2,1.3,0.2,Iris-setosa              \n",
       "3                        4,4.6,3.1,1.5,0.2,Iris-setosa              \n",
       "4                        5,5.0,3.6,1.4,0.2,Iris-setosa              \n",
       "..                                                 ...              \n",
       "145                 146,6.7,3.0,5.2,2.3,Iris-virginica              \n",
       "146                 147,6.3,2.5,5.0,1.9,Iris-virginica              \n",
       "147                 148,6.5,3.0,5.2,2.0,Iris-virginica              \n",
       "148                 149,6.2,3.4,5.4,2.3,Iris-virginica              \n",
       "149                 150,5.9,3.0,5.1,1.8,Iris-virginica              \n",
       "\n",
       "[150 rows x 1 columns]"
      ]
     },
     "execution_count": 7,
     "metadata": {},
     "output_type": "execute_result"
    }
   ],
   "source": [
    "# different delimeters - tab-seperated file (.tsv):\n",
    "data = pd.read_csv(filepath, sep='\\t')\n",
    "print(data)"
   ]
  },
  {
   "cell_type": "code",
   "execution_count": 9,
   "id": "f3383c2c",
   "metadata": {},
   "outputs": [
    {
     "name": "stdout",
     "output_type": "stream",
     "text": [
      "    Id,SepalLengthCm,SepalWidthCm,PetalLengthCm,PetalWidthCm,Species\n",
      "0                        1,5.1,3.5,1.4,0.2,Iris-setosa              \n",
      "1                        2,4.9,3.0,1.4,0.2,Iris-setosa              \n",
      "2                        3,4.7,3.2,1.3,0.2,Iris-setosa              \n",
      "3                        4,4.6,3.1,1.5,0.2,Iris-setosa              \n",
      "4                        5,5.0,3.6,1.4,0.2,Iris-setosa              \n",
      "..                                                 ...              \n",
      "145                 146,6.7,3.0,5.2,2.3,Iris-virginica              \n",
      "146                 147,6.3,2.5,5.0,1.9,Iris-virginica              \n",
      "147                 148,6.5,3.0,5.2,2.0,Iris-virginica              \n",
      "148                 149,6.2,3.4,5.4,2.3,Iris-virginica              \n",
      "149                 150,5.9,3.0,5.1,1.8,Iris-virginica              \n",
      "\n",
      "[150 rows x 1 columns]\n"
     ]
    }
   ],
   "source": [
    "# different delimeters - space-seperated file:\n",
    "data = pd.read_csv(filepath, delim_whitespace =True)\n",
    "print(data)"
   ]
  },
  {
   "cell_type": "code",
   "execution_count": 11,
   "id": "6b9be5e4",
   "metadata": {},
   "outputs": [
    {
     "name": "stdout",
     "output_type": "stream",
     "text": [
      "       0              1             2              3             4  \\\n",
      "0     Id  SepalLengthCm  SepalWidthCm  PetalLengthCm  PetalWidthCm   \n",
      "1      1            5.1           3.5            1.4           0.2   \n",
      "2      2            4.9           3.0            1.4           0.2   \n",
      "3      3            4.7           3.2            1.3           0.2   \n",
      "4      4            4.6           3.1            1.5           0.2   \n",
      "..   ...            ...           ...            ...           ...   \n",
      "146  146            6.7           3.0            5.2           2.3   \n",
      "147  147            6.3           2.5            5.0           1.9   \n",
      "148  148            6.5           3.0            5.2           2.0   \n",
      "149  149            6.2           3.4            5.4           2.3   \n",
      "150  150            5.9           3.0            5.1           1.8   \n",
      "\n",
      "                  5  \n",
      "0           Species  \n",
      "1       Iris-setosa  \n",
      "2       Iris-setosa  \n",
      "3       Iris-setosa  \n",
      "4       Iris-setosa  \n",
      "..              ...  \n",
      "146  Iris-virginica  \n",
      "147  Iris-virginica  \n",
      "148  Iris-virginica  \n",
      "149  Iris-virginica  \n",
      "150  Iris-virginica  \n",
      "\n",
      "[151 rows x 6 columns]\n"
     ]
    }
   ],
   "source": [
    "# don't use first row for column names:\n",
    "data = pd.read_csv(filepath, header=None)\n",
    "print(data)"
   ]
  },
  {
   "cell_type": "code",
   "execution_count": 12,
   "id": "bc045525",
   "metadata": {},
   "outputs": [
    {
     "name": "stdout",
     "output_type": "stream",
     "text": [
      "                                                     Name1           Name2\n",
      "Id  SepalLengthCm SepalWidthCm PetalLengthCm  PetalWidthCm         Species\n",
      "1   5.1           3.5          1.4                     0.2     Iris-setosa\n",
      "2   4.9           3.0          1.4                     0.2     Iris-setosa\n",
      "3   4.7           3.2          1.3                     0.2     Iris-setosa\n",
      "4   4.6           3.1          1.5                     0.2     Iris-setosa\n",
      "...                                                    ...             ...\n",
      "146 6.7           3.0          5.2                     2.3  Iris-virginica\n",
      "147 6.3           2.5          5.0                     1.9  Iris-virginica\n",
      "148 6.5           3.0          5.2                     2.0  Iris-virginica\n",
      "149 6.2           3.4          5.4                     2.3  Iris-virginica\n",
      "150 5.9           3.0          5.1                     1.8  Iris-virginica\n",
      "\n",
      "[151 rows x 2 columns]\n"
     ]
    }
   ],
   "source": [
    "# specify column names:\n",
    "data = pd.read_csv(filepath, names=['Name1', 'Name2'])\n",
    "print(data)"
   ]
  },
  {
   "cell_type": "code",
   "execution_count": 15,
   "id": "3476b93f",
   "metadata": {},
   "outputs": [
    {
     "name": "stdout",
     "output_type": "stream",
     "text": [
      "        Id  SepalLengthCm  SepalWidthCm  PetalLengthCm  PetalWidthCm  \\\n",
      "0      1.0            5.1           3.5            1.4           0.2   \n",
      "1      2.0            4.9           3.0            1.4           0.2   \n",
      "2      3.0            4.7           3.2            1.3           0.2   \n",
      "3      4.0            4.6           3.1            1.5           0.2   \n",
      "4      5.0            5.0           3.6            1.4           0.2   \n",
      "..     ...            ...           ...            ...           ...   \n",
      "145  146.0            6.7           3.0            5.2           2.3   \n",
      "146  147.0            6.3           2.5            5.0           1.9   \n",
      "147  148.0            6.5           3.0            5.2           2.0   \n",
      "148  149.0            6.2           3.4            5.4           2.3   \n",
      "149  150.0            5.9           3.0            5.1           1.8   \n",
      "\n",
      "            Species  \n",
      "0       Iris-setosa  \n",
      "1       Iris-setosa  \n",
      "2       Iris-setosa  \n",
      "3       Iris-setosa  \n",
      "4       Iris-setosa  \n",
      "..              ...  \n",
      "145  Iris-virginica  \n",
      "146  Iris-virginica  \n",
      "147  Iris-virginica  \n",
      "148  Iris-virginica  \n",
      "149  Iris-virginica  \n",
      "\n",
      "[150 rows x 6 columns]\n"
     ]
    }
   ],
   "source": [
    "# custo missing values:\n",
    "data = pd.read_csv(filepath, na_values=['Na', 99])\n",
    "print(data)"
   ]
  },
  {
   "cell_type": "markdown",
   "id": "3b418ef2",
   "metadata": {},
   "source": [
    "# read sql file "
   ]
  },
  {
   "cell_type": "code",
   "execution_count": 18,
   "id": "cd8fc476",
   "metadata": {},
   "outputs": [],
   "source": [
    "import pandas as pd\n",
    "import sqlite3 as sq3\n",
    "import pandas.io.sql as pds"
   ]
  },
  {
   "cell_type": "code",
   "execution_count": null,
   "id": "27d9b24a",
   "metadata": {},
   "outputs": [],
   "source": []
  }
 ],
 "metadata": {
  "kernelspec": {
   "display_name": "Python 3 (ipykernel)",
   "language": "python",
   "name": "python3"
  },
  "language_info": {
   "codemirror_mode": {
    "name": "ipython",
    "version": 3
   },
   "file_extension": ".py",
   "mimetype": "text/x-python",
   "name": "python",
   "nbconvert_exporter": "python",
   "pygments_lexer": "ipython3",
   "version": "3.9.12"
  }
 },
 "nbformat": 4,
 "nbformat_minor": 5
}
